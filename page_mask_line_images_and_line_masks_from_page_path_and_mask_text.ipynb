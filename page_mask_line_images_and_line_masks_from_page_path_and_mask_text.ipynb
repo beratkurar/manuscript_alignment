{
 "cells": [
  {
   "cell_type": "markdown",
   "metadata": {},
   "source": [
    "This notebook contains two functions. \n",
    "\n",
    "The first function inputs the page image path, page xml path and a mask text. It outputs a binary page_mask where the mask texts are white.\n",
    "\n",
    "The second function inputs the page image path, page xml path and a mask text. It outputs a binary line_masks and line images which contain the mask text."
   ]
  },
  {
   "cell_type": "code",
   "execution_count": 1,
   "metadata": {},
   "outputs": [],
   "source": [
    "import os\n",
    "import xml.etree.ElementTree as ET\n",
    "import cv2\n",
    "from IPython.display import display, Image\n",
    "import PIL.Image\n",
    "from io import BytesIO\n",
    "import numpy as np"
   ]
  },
  {
   "cell_type": "code",
   "execution_count": 2,
   "metadata": {},
   "outputs": [],
   "source": [
    "def show_image(img, fmt='png'):\n",
    "    a = np.uint8(img)\n",
    "    f = BytesIO()\n",
    "    PIL.Image.fromarray(a).save(f, fmt)\n",
    "    display(Image(data=f.getvalue()))\n",
    "    \n",
    "def xml_to_coordinates(t):\n",
    "    result = []\n",
    "    for p in t.split(' '):\n",
    "        values = p.split(',')\n",
    "        assert len(values) == 2\n",
    "        x, y = int(float(values[0])), int(float(values[1]))\n",
    "        result.append((x,y))\n",
    "    result=np.array(result)\n",
    "    return result\n",
    "\n",
    "def page_mask_from_page_path_and_mask_text(page_image_path, page_xml_path, mask_text):\n",
    "    page_image = cv2.imread(page_image_path,0)\n",
    "    page_height, page_width = page_image.shape\n",
    "    page_mask = np.zeros((page_height, page_width), np.uint8)\n",
    "\n",
    "    tree = ET.parse(page_xml_path)\n",
    "    root = tree.getroot()\n",
    "    words = root.findall('{http://schema.primaresearch.org/PAGE/gts/pagecontent/2019-07-15}Page/'+\n",
    "                         '{http://schema.primaresearch.org/PAGE/gts/pagecontent/2019-07-15}TextRegion/'+\n",
    "                         '{http://schema.primaresearch.org/PAGE/gts/pagecontent/2019-07-15}TextLine/'+\n",
    "                         '{http://schema.primaresearch.org/PAGE/gts/pagecontent/2019-07-15}Word')\n",
    "    for word in words:\n",
    "        unicode = word.find('{http://schema.primaresearch.org/PAGE/gts/pagecontent/2019-07-15}TextEquiv/'+\n",
    "                            '{http://schema.primaresearch.org/PAGE/gts/pagecontent/2019-07-15}Unicode')\n",
    "        word_text = unicode.text\n",
    "        if word_text == mask_text:\n",
    "            coords = word.find('{http://schema.primaresearch.org/PAGE/gts/pagecontent/2019-07-15}Coords')\n",
    "            points = coords.attrib['points']\n",
    "            cnt = xml_to_coordinates(points)\n",
    "            (x,y,w,h) = cv2.boundingRect(cnt)\n",
    "            cv2.rectangle(page_mask, (x,y), (x+w,y+h), (255,255,255), -1)\n",
    "    page_mask = cv2.bitwise_and(page_image, page_mask)\n",
    "    show_image(page_mask)\n",
    "    return page_mask\n",
    "\n",
    "def line_images_and_line_masks_from_page_path_and_mask_text(page_image_path, page_xml_path, mask_text):\n",
    "    line_images = []\n",
    "    line_masks = []\n",
    "    page_image = cv2.imread(page_image_path,0)\n",
    "    page_height, page_width = page_image.shape\n",
    "    page_mask = page_mask_from_page_path_and_mask_text(page_image_path, page_xml_path, mask_text)\n",
    "\n",
    "    tree = ET.parse(page_xml_path)\n",
    "    root = tree.getroot()    \n",
    "    lines = root.findall('{http://schema.primaresearch.org/PAGE/gts/pagecontent/2019-07-15}Page/'+\n",
    "                         '{http://schema.primaresearch.org/PAGE/gts/pagecontent/2019-07-15}TextRegion/'+\n",
    "                         '{http://schema.primaresearch.org/PAGE/gts/pagecontent/2019-07-15}TextLine')\n",
    "    for line in lines:\n",
    "        unicode = line.find('{http://schema.primaresearch.org/PAGE/gts/pagecontent/2019-07-15}TextEquiv/'+\n",
    "                            '{http://schema.primaresearch.org/PAGE/gts/pagecontent/2019-07-15}Unicode')\n",
    "        line_text = unicode.text\n",
    "        if mask_text in line_text:\n",
    "            coords = line.find('{http://schema.primaresearch.org/PAGE/gts/pagecontent/2019-07-15}Coords')\n",
    "            points = coords.attrib['points']\n",
    "            cnt = xml_to_coordinates(points)\n",
    "            (x,y,w,h) = cv2.boundingRect(cnt)\n",
    "            line_image = page_image[y:y+h, x:x+w]\n",
    "            line_mask = page_mask[y:y+h, x:x+w]\n",
    "            line_images.append(line_image)\n",
    "            line_masks.append(line_mask)\n",
    "            show_image(line_image)\n",
    "            show_image(line_mask)\n",
    "\n",
    "                                \n",
    "    return line_images, line_masks"
   ]
  },
  {
   "cell_type": "code",
   "execution_count": 3,
   "metadata": {},
   "outputs": [
    {
     "data": {
      "image/png": "[encoded data removed]",
      "text/plain": [
       "<IPython.core.display.Image object>"
      ]
     },
     "metadata": {},
     "output_type": "display_data"
    },
    {
     "data": {
      "image/png": "[encoded data removed]",
      "text/plain": [
       "<IPython.core.display.Image object>"
      ]
     },
     "metadata": {},
     "output_type": "display_data"
    },
    {
     "data": {
      "image/png": "[encoded data removed]",
      "text/plain": [
       "<IPython.core.display.Image object>"
      ]
     },
     "metadata": {},
     "output_type": "display_data"
    },
    {
     "data": {
      "image/png": "[encoded data removed]",
      "text/plain": [
       "<IPython.core.display.Image object>"
      ]
     },
     "metadata": {},
     "output_type": "display_data"
    },
    {
     "data": {
      "image/png": "[encoded data removed]",
      "text/plain": [
       "<IPython.core.display.Image object>"
      ]
     },
     "metadata": {},
     "output_type": "display_data"
    },
    {
     "data": {
      "image/png": "[encoded data removed]",
      "text/plain": [
       "<IPython.core.display.Image object>"
      ]
     },
     "metadata": {},
     "output_type": "display_data"
    },
    {
     "data": {
      "image/png": "[encoded data removed]",
      "text/plain": [
       "<IPython.core.display.Image object>"
      ]
     },
     "metadata": {},
     "output_type": "display_data"
    },
    {
     "data": {
      "image/png": "[encoded data removed]",
      "text/plain": [
       "<IPython.core.display.Image object>"
      ]
     },
     "metadata": {},
     "output_type": "display_data"
    },
    {
     "data": {
      "image/png": "[encoded data removed]",
      "text/plain": [
       "<IPython.core.display.Image object>"
      ]
     },
     "metadata": {},
     "output_type": "display_data"
    },
    {
     "data": {
      "image/png": "[encoded data removed]",
      "text/plain": [
       "<IPython.core.display.Image object>"
      ]
     },
     "metadata": {},
     "output_type": "display_data"
    },
    {
     "data": {
      "image/png": "[encoded data removed]",
      "text/plain": [
       "<IPython.core.display.Image object>"
      ]
     },
     "metadata": {},
     "output_type": "display_data"
    },
    {
     "data": {
      "image/png": "[encoded data removed]",
      "text/plain": [
       "<IPython.core.display.Image object>"
      ]
     },
     "metadata": {},
     "output_type": "display_data"
    },
    {
     "data": {
      "image/png": "[encoded data removed]",
      "text/plain": [
       "<IPython.core.display.Image object>"
      ]
     },
     "metadata": {},
     "output_type": "display_data"
    },
    {
     "data": {
      "image/png": "[encoded data removed]",
      "text/plain": [
       "<IPython.core.display.Image object>"
      ]
     },
     "metadata": {},
     "output_type": "display_data"
    },
    {
     "data": {
      "image/png": "[encoded data removed]",
      "text/plain": [
       "<IPython.core.display.Image object>"
      ]
     },
     "metadata": {},
     "output_type": "display_data"
    },
    {
     "data": {
      "image/png": "[encoded data removed]",
      "text/plain": [
       "<IPython.core.display.Image object>"
      ]
     },
     "metadata": {},
     "output_type": "display_data"
    },
    {
     "data": {
      "image/png": "[encoded data removed]",
      "text/plain": [
       "<IPython.core.display.Image object>"
      ]
     },
     "metadata": {},
     "output_type": "display_data"
    }
   ],
   "source": [
    "page_image_path = 'book1_binary_images/004-1.png'\n",
    "page_xml_path = 'book1_words_lines_page_xmls/004-1.xml'\n",
    "mask_text = 'ا'\n",
    "line_images, line_masks = line_images_and_line_masks_from_page_path_and_mask_text(page_image_path, page_xml_path, mask_text)"
   ]
  },
  {
   "cell_type": "code",
   "execution_count": null,
   "metadata": {},
   "outputs": [],
   "source": []
  }
 ],
 "metadata": {
  "kernelspec": {
   "display_name": "Python 3",
   "language": "python",
   "name": "python3"
  },
  "language_info": {
   "codemirror_mode": {
    "name": "ipython",
    "version": 3
   },
   "file_extension": ".py",
   "mimetype": "text/x-python",
   "name": "python",
   "nbconvert_exporter": "python",
   "pygments_lexer": "ipython3",
   "version": "3.8.6"
  }
 },
 "nbformat": 4,
 "nbformat_minor": 5
}
